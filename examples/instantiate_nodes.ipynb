{
 "metadata": {
  "language_info": {
   "codemirror_mode": {
    "name": "ipython",
    "version": 3
   },
   "file_extension": ".py",
   "mimetype": "text/x-python",
   "name": "python",
   "nbconvert_exporter": "python",
   "pygments_lexer": "ipython3",
   "version": "3.8.5-final"
  },
  "orig_nbformat": 2,
  "kernelspec": {
   "name": "python3",
   "display_name": "Python 3.8.5 64-bit ('clap-env': venv)",
   "metadata": {
    "interpreter": {
     "hash": "10aee6e6376b7c230f232d40cf543a07a65a50f857f85a5c9f6405dce24d195a"
    }
   }
  }
 },
 "nbformat": 4,
 "nbformat_minor": 2,
 "cells": [
  {
   "cell_type": "code",
   "execution_count": 1,
   "metadata": {},
   "outputs": [],
   "source": [
    "import os\n",
    "# Just for colored prints...\n",
    "from utils import *"
   ]
  },
  {
   "source": [
    "## This will remove CLAP's database. Don't remove if you have any nodes running!"
   ],
   "cell_type": "markdown",
   "metadata": {}
  },
  {
   "cell_type": "code",
   "execution_count": 2,
   "metadata": {},
   "outputs": [
    {
     "output_type": "stream",
     "name": "stdout",
     "text": [
      "\u001b[31mRemoving CLAP's database...\u001b[0m\n"
     ]
    }
   ],
   "source": [
    "# Optional\n",
    "red_print(\"Removing CLAP's database...\")\n",
    "!rm -rf ~/.clap/storage/nodes.db"
   ]
  },
  {
   "source": [
    "# Nodes Creation"
   ],
   "cell_type": "markdown",
   "metadata": {}
  },
  {
   "cell_type": "code",
   "execution_count": 3,
   "metadata": {},
   "outputs": [
    {
     "output_type": "stream",
     "name": "stdout",
     "text": [
      "\u001b[32mListing CLAP's nodes\u001b[0m\n",
      "Listed 0 nodes\n"
     ]
    }
   ],
   "source": [
    "green_print(\"Listing CLAP's nodes\")\n",
    "!clapp node list"
   ]
  },
  {
   "cell_type": "code",
   "execution_count": 4,
   "metadata": {},
   "outputs": [
    {
     "output_type": "stream",
     "name": "stdout",
     "text": [
      "\u001b[32mListing providers file contents:\u001b[0m\n",
      "aws-config-us-east-1:\n",
      "    provider: aws\n",
      "    access_keyfile: ec2_access_key.pub\n",
      "    secret_access_keyfile: ec2_access_key.pem\n",
      "    url: https://ec2.us-east-1.amazonaws.com\n",
      "    region: us-east-1\n",
      "-------\n",
      "\n",
      "\u001b[32mListing logins file contents:\u001b[0m\n",
      "login-ubuntu:\n",
      "    user: ubuntu\n",
      "    keypair_name: otavio_key_us_east_1\n",
      "    keypair_public_file: otavio_key_us_east_1.pub\n",
      "    keypair_private_file: otavio_key_us_east_1.pem\n",
      "    sudo: true\n",
      "    sudo_user: root\n",
      "    \n",
      "login-ubuntu-b:\n",
      "    user: ubuntu\n",
      "-------\n",
      "\n",
      "\u001b[32mListing instances file contents:\u001b[0m\n",
      "type-a:\n",
      "    provider: aws-config-us-east-1\n",
      "    login: login-ubuntu\n",
      "    flavor: t2.micro\n",
      "    image_id: ami-07d0cf3af28718ef8\n",
      "    security_group: otavio-sg\n",
      "\n",
      "type-b:\n",
      "    provider: aws-config-us-east-1\n",
      "    login: login-ubuntu-b\n",
      "    flavor: t2.medium\n",
      "    image_id: ami-07d0cf3af28718ef8\n",
      "    boot_disk_size: 10\n",
      "-------\n",
      "\n",
      "\u001b[32mListing CLAP's instance templates:\u001b[0m\n",
      "name: `type-a`\n",
      "    provider config id:` aws-config-us-east-1`\n",
      "    login config id: `login-ubuntu`\n",
      "\n",
      "name: `type-b`\n",
      "    provider config id:` aws-config-us-east-1`\n",
      "    login config id: `login-ubuntu-b`\n",
      "\n",
      "Listed 2 instance templates\n",
      "-------\n",
      "\n"
     ]
    }
   ],
   "source": [
    "green_print('Listing providers file contents:')\n",
    "!cat ~/.clap/configs/providers.yaml\n",
    "print('-------\\n')\n",
    "\n",
    "green_print('Listing logins file contents:')\n",
    "!cat ~/.clap/configs/logins.yaml\n",
    "print('-------\\n')\n",
    "\n",
    "green_print('Listing instances file contents:')\n",
    "!cat ~/.clap/configs/instances.yaml\n",
    "print('-------\\n')\n",
    "\n",
    "green_print(\"Listing CLAP's instance templates:\")\n",
    "!clapp node list-templates\n",
    "print('-------\\n')"
   ]
  },
  {
   "cell_type": "code",
   "execution_count": 5,
   "metadata": {},
   "outputs": [
    {
     "output_type": "stream",
     "name": "stdout",
     "text": [
      "\u001b[32mStarting 2 type-a nodes\u001b[0m\n",
      "\n",
      "\n",
      "\n",
      "\n",
      "PLAY [localhost] ***************************************************************\n",
      "\n",
      "TASK [Starting 2 type-a instances (timeout 600 seconds)] ***********************\n",
      "\u001b[0;33mchanged: [localhost]\u001b[0m\n",
      "\n",
      "\n",
      "\n",
      "\n",
      "\n",
      "\n",
      "\n",
      "\n",
      "PLAY [localhost] ***************************************************************\n",
      "\n",
      "TASK [ec2_tag] *****************************************************************\n",
      "\u001b[0;33mchanged: [localhost] => (item={'id': 'i-03dbae9b930d7e5fa', 'name': 'aws-config-us-east-1-node-0-LeonardCurtis'})\u001b[0m\n",
      "\u001b[0;33mchanged: [localhost] => (item={'id': 'i-0abdbc348dd35cc02', 'name': 'aws-config-us-east-1-node-1-OscarMiles'})\u001b[0m\n",
      "\n",
      "\n",
      "\n",
      "\n",
      "\n",
      "\n",
      "\n",
      "\n",
      "Created 2 nodes:\n",
      "id=`node-0` nickname=`Leonard Curtis`, ip=`100.26.215.227` status=`reachable` instance_type=`type-a`, tags=``, roles=``\n",
      "id=`node-1` nickname=`Oscar Miles`, ip=`100.25.34.201` status=`reachable` instance_type=`type-a`, tags=``, roles=``\n"
     ]
    }
   ],
   "source": [
    "green_print('Starting 2 type-a nodes')\n",
    "!clapp node start type-a:2"
   ]
  },
  {
   "cell_type": "code",
   "execution_count": 6,
   "metadata": {},
   "outputs": [
    {
     "output_type": "stream",
     "name": "stdout",
     "text": [
      "\u001b[32mExecuting a PWD command in nodes node-0 and node-1\u001b[0m\n",
      "-------------------- STDOUT: `node-0` --------------------\n",
      "/home/ubuntu\n",
      "\n",
      "\n",
      "-------------------- STDERR: `node-0` --------------------\n",
      "\n",
      "\n",
      "----------------------------------------------------------------------\n",
      "-------------------- STDOUT: `node-1` --------------------\n",
      "/home/ubuntu\n",
      "\n",
      "\n",
      "-------------------- STDERR: `node-1` --------------------\n",
      "\n",
      "\n",
      "----------------------------------------------------------------------\n"
     ]
    }
   ],
   "source": [
    "green_print('Executing a PWD command in nodes node-0 and node-1')\n",
    "!clapp node execute node-0 node-1 -cmd \"pwd\""
   ]
  },
  {
   "cell_type": "code",
   "execution_count": 7,
   "metadata": {},
   "outputs": [
    {
     "output_type": "stream",
     "name": "stdout",
     "text": [
      "\n",
      "\n",
      "\n",
      "\n",
      "PLAY [localhost] ***************************************************************\n",
      "\n",
      "TASK [Stopping nodes `node-0, node-1`] *****************************************\n",
      "\n",
      "\u001b[0;33mchanged: [localhost]\u001b[0m\n",
      "\n",
      "\n",
      "\n",
      "\n",
      "\n",
      "\n",
      "\n",
      "node-0 stopped\n",
      "node-1 stopped\n",
      "Stopped 2 nodes\n"
     ]
    }
   ],
   "source": [
    "!clapp node stop node-0 node-1"
   ]
  },
  {
   "cell_type": "code",
   "execution_count": null,
   "metadata": {},
   "outputs": [],
   "source": []
  }
 ]
}