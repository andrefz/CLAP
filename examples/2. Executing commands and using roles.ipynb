{
 "cells": [
  {
   "cell_type": "markdown",
   "id": "c06cfc4d-dc37-4805-b403-b35090fca9cd",
   "metadata": {},
   "source": [
    "# Executing commands and Playbooks at Nodes and using Role System\n",
    "\n",
    "This notebook  brief describes how to execute commands in CLAP nodes. There are three ways to execute commands:\n",
    "* Directly executing shell commands\n",
    "* Executing an Ansible playbook\n",
    "* Executing role's actions"
   ]
  },
  {
   "cell_type": "code",
   "execution_count": 1,
   "id": "32ca95a1-430d-4a52-a9d5-79a674be4b43",
   "metadata": {},
   "outputs": [
    {
     "name": "stdout",
     "output_type": "stream",
     "text": [
      "Package                       Version\n",
      "----------------------------- -----------\n",
      "alabaster                     0.7.12\n",
      "ansible                       3.4.0\n",
      "ansible-base                  2.10.9\n",
      "ansible-runner                1.4.7\n",
      "anyio                         3.1.0\n",
      "argcomplete                   1.12.3\n",
      "argon2-cffi                   20.1.0\n",
      "astroid                       2.5.6\n",
      "async-generator               1.10\n",
      "attrs                         21.2.0\n",
      "Babel                         2.9.1\n",
      "backcall                      0.2.0\n",
      "bcrypt                        3.2.0\n",
      "bleach                        3.3.0\n",
      "boto                          2.49.0\n",
      "boto3                         1.17.73\n",
      "botocore                      1.20.73\n",
      "certifi                       2020.12.5\n",
      "cffi                          1.14.5\n",
      "chardet                       4.0.0\n",
      "click                         8.0.0\n",
      "coloredlogs                   15.0\n",
      "contextlib2                   0.6.0.post1\n",
      "cryptography                  3.4.7\n",
      "dacite                        1.6.0\n",
      "decorator                     5.0.7\n",
      "defusedxml                    0.7.1\n",
      "docutils                      0.16\n",
      "entrypoints                   0.3\n",
      "fire                          0.4.0\n",
      "humanfriendly                 9.1\n",
      "idna                          2.10\n",
      "imagesize                     1.2.0\n",
      "iniconfig                     1.1.1\n",
      "ipaddress                     1.0.23\n",
      "ipykernel                     5.5.5\n",
      "ipython                       7.23.1\n",
      "ipython-genutils              0.2.0\n",
      "jedi                          0.18.0\n",
      "Jinja2                        3.0.0\n",
      "jmespath                      0.10.0\n",
      "json5                         0.9.5\n",
      "jsonschema                    3.2.0\n",
      "jupyter-client                6.1.12\n",
      "jupyter-core                  4.7.1\n",
      "jupyter-server                1.8.0\n",
      "jupyterlab                    3.0.16\n",
      "jupyterlab-pygments           0.1.2\n",
      "jupyterlab-server             2.5.2\n",
      "lazy-object-proxy             1.6.0\n",
      "lockfile                      0.12.2\n",
      "MarkupSafe                    2.0.0\n",
      "marshmallow                   3.12.1\n",
      "marshmallow-dataclass         8.4.1\n",
      "matplotlib-inline             0.1.2\n",
      "mistune                       0.8.4\n",
      "mypy-extensions               0.4.3\n",
      "names                         0.3.0\n",
      "nbclassic                     0.3.1\n",
      "nbclient                      0.5.3\n",
      "nbconvert                     6.0.7\n",
      "nbformat                      5.1.3\n",
      "nest-asyncio                  1.5.1\n",
      "netaddr                       0.8.0\n",
      "notebook                      6.4.0\n",
      "numpy                         1.20.3\n",
      "packaging                     20.9\n",
      "pandocfilters                 1.4.3\n",
      "paramiko                      2.7.2\n",
      "parso                         0.8.2\n",
      "pexpect                       4.8.0\n",
      "pickleshare                   0.7.5\n",
      "pip                           21.1.2\n",
      "pkg-resources                 0.0.0\n",
      "pluggy                        0.13.1\n",
      "prometheus-client             0.10.1\n",
      "prompt-toolkit                3.0.18\n",
      "psutil                        5.8.0\n",
      "ptyprocess                    0.7.0\n",
      "py                            1.10.0\n",
      "pyCLI                         2.0.3\n",
      "pycparser                     2.20\n",
      "pycrypto                      2.6.1\n",
      "Pygments                      2.9.0\n",
      "PyNaCl                        1.4.0\n",
      "pyparsing                     2.4.7\n",
      "pyrsistent                    0.17.3\n",
      "pytest                        6.2.4\n",
      "python-daemon                 2.3.0\n",
      "python-dateutil               2.8.1\n",
      "pytz                          2021.1\n",
      "PyYAML                        5.4.1\n",
      "pyzmq                         22.0.3\n",
      "randomname                    0.1.3\n",
      "requests                      2.25.1\n",
      "s3transfer                    0.4.2\n",
      "scandir                       1.10.0\n",
      "schema                        0.7.4\n",
      "SecretStorage                 2.3.1\n",
      "Send2Trash                    1.5.0\n",
      "setuptools                    44.0.0\n",
      "six                           1.16.0\n",
      "sniffio                       1.2.0\n",
      "snowballstemmer               2.1.0\n",
      "Sphinx                        3.5.4\n",
      "sphinx-autoapi                1.8.1\n",
      "sphinx-rtd-theme              0.5.2\n",
      "sphinxcontrib-applehelp       1.0.2\n",
      "sphinxcontrib-devhelp         1.0.2\n",
      "sphinxcontrib-htmlhelp        1.0.3\n",
      "sphinxcontrib-jsmath          1.0.1\n",
      "sphinxcontrib-qthelp          1.0.3\n",
      "sphinxcontrib-serializinghtml 1.1.4\n",
      "sqlitedict                    1.7.0\n",
      "subprocess32                  3.5.4\n",
      "termcolor                     1.1.0\n",
      "terminado                     0.10.0\n",
      "testpath                      0.5.0\n",
      "tinydb                        3.15.2\n",
      "toml                          0.10.2\n",
      "tornado                       6.1\n",
      "traitlets                     5.0.5\n",
      "typeguard                     2.12.0\n",
      "typing-extensions             3.10.0.0\n",
      "typing-inspect                0.6.0\n",
      "Unidecode                     1.2.0\n",
      "urllib3                       1.26.4\n",
      "wcwidth                       0.2.5\n",
      "webencodings                  0.5.1\n",
      "websocket-client              1.0.1\n",
      "wrapt                         1.12.1\n"
     ]
    }
   ],
   "source": [
    "import sys\n",
    "sys.path.append('..')\n",
    "!pip list"
   ]
  },
  {
   "cell_type": "markdown",
   "id": "e4fe01bd-50d6-4e5e-9153-51d5c93d0253",
   "metadata": {},
   "source": [
    "Let's perform traditional imports"
   ]
  },
  {
   "cell_type": "code",
   "execution_count": 2,
   "id": "9a26ed6f-1029-4225-9120-faecad5d6b4a",
   "metadata": {},
   "outputs": [],
   "source": [
    "import yaml\n",
    "from dataclasses import asdict\n",
    "from app.cli.modules.node import get_config_db, get_node_manager\n",
    "from app.cli.modules.role import get_role_manager\n",
    "from clap.utils import float_time_to_string, path_extend\n",
    "from clap.executor import SSHCommandExecutor, AnsiblePlaybookExecutor"
   ]
  },
  {
   "cell_type": "markdown",
   "id": "2f7be63b-ce4d-4a3c-8d41-0aeb0ddf3320",
   "metadata": {},
   "source": [
    "Let's create manager objects"
   ]
  },
  {
   "cell_type": "code",
   "execution_count": 8,
   "id": "17998406-d4f7-44fc-8c6a-97f3f4503dc2",
   "metadata": {},
   "outputs": [],
   "source": [
    "configuration_db = get_config_db()\n",
    "node_manager = get_node_manager()\n",
    "role_manager = get_role_manager()\n",
    "# Private's path (usually ~/.clap/private/) will be used for other methods\n",
    "private_path = node_manager.private_path"
   ]
  },
  {
   "cell_type": "markdown",
   "id": "8c397967-3ba1-4641-87d3-892f134fe301",
   "metadata": {},
   "source": [
    "And get nodes in CLAP's system. Here we have 2 nodes, previously created with CLAP"
   ]
  },
  {
   "cell_type": "code",
   "execution_count": 6,
   "id": "32f2a374-39b2-47cb-8efd-f6517ef8d1dc",
   "metadata": {},
   "outputs": [
    {
     "name": "stdout",
     "output_type": "stream",
     "text": [
      "Node ID: 07f4a369663f48d48254f2ad4c5abbfe (HenryRoy); status: reachable; IP: 107.22.143.157; type: type-a\n",
      "Node ID: 8133c6f7f9ca48258d1e0f01e11326f6 (GeorgeHerndon); status: reachable; IP: 18.207.2.190; type: type-a\n"
     ]
    }
   ],
   "source": [
    "nodes = node_manager.get_all_nodes()\n",
    "for node in nodes:\n",
    "    print(f\"Node ID: {node.node_id} ({node.nickname}); status: {node.status}; \"\n",
    "          f\"IP: {node.ip}; type: {node.configuration.instance.instance_config_id}\")"
   ]
  },
  {
   "cell_type": "markdown",
   "id": "5f372079-8b75-4524-8a79-aa59cc36650f",
   "metadata": {},
   "source": [
    "Let's update node information using IS alive method"
   ]
  },
  {
   "cell_type": "code",
   "execution_count": 7,
   "id": "1975df88-48b1-4e8a-a9a2-e434fe5548b4",
   "metadata": {},
   "outputs": [
    {
     "name": "stdout",
     "output_type": "stream",
     "text": [
      "Node 07f4a369663f48d48254f2ad4c5abbfe is alive\n",
      "Node 8133c6f7f9ca48258d1e0f01e11326f6 is alive\n"
     ]
    }
   ],
   "source": [
    "node_ids = [node.node_id for node in nodes]\n",
    "for node_id, status in node_manager.is_alive(node_ids).items():\n",
    "    print(f\"Node {node_id} is {'alive' if status else 'not alive'}\")"
   ]
  },
  {
   "cell_type": "markdown",
   "id": "5fd7cc13-87a6-4e28-bd1d-abf8e0760395",
   "metadata": {},
   "source": [
    "## Executing Shell commands directly, using SSHCommandExecutor class\n",
    "\n",
    "The SSHCommandExecutor class allows you to execute shel commands in nodes. The command is a string of shell commands. This class must be initializated with the command string, the list of **NodeDescriptors** and the path to private directory.\n",
    "\n",
    "After using the run() method from SSHCommandExecutor, it wil be returned a dataclass called `CommandResult` with the following information:\n",
    "* ok: if the command was executed in nodes (SSH performed and command executed)\n",
    "* ret_code: if the command was executed (ok==True), this will contain the return code, otherwise None\n",
    "* stdout_lines: if the command was executed (ok==True), this will contain a list of strings of the stdout output, otherwise None\n",
    "* stderr_lines: if the command was executed (ok==True), this will contain a list of strings of the stderr output, otherwise None\n",
    "* error: if the command was not executed (ok==False), this will contain the string with the exception, otherwise None"
   ]
  },
  {
   "cell_type": "code",
   "execution_count": 9,
   "id": "ee5bd1d5-adf4-4062-b3b6-78ac02efcc47",
   "metadata": {},
   "outputs": [
    {
     "name": "stdout",
     "output_type": "stream",
     "text": [
      "Node id 07f4a369663f48d48254f2ad4c5abbfe, executed the command: True, ret code: 0\n",
      "-----\n",
      "error: null\n",
      "ok: true\n",
      "ret_code: 0\n",
      "stderr_lines:\n",
      "- 'Cloning into ''CLAP-ssh''...\n",
      "\n",
      "    '\n",
      "stdout_lines:\n",
      "- 'Clonned CLAP into CLAP-ssh\n",
      "\n",
      "    '\n",
      "\n",
      "Node id 8133c6f7f9ca48258d1e0f01e11326f6, executed the command: True, ret code: 0\n",
      "-----\n",
      "error: null\n",
      "ok: true\n",
      "ret_code: 0\n",
      "stderr_lines:\n",
      "- 'Cloning into ''CLAP-ssh''...\n",
      "\n",
      "    '\n",
      "stdout_lines:\n",
      "- 'Clonned CLAP into CLAP-ssh\n",
      "\n",
      "    '\n",
      "\n"
     ]
    }
   ],
   "source": [
    "command_to_execute = \"\"\"\n",
    "git clone https://github.com/lmcad-unicamp/CLAP.git CLAP-ssh\n",
    "echo Clonned CLAP into CLAP-ssh\n",
    "\"\"\"\n",
    "executor = SSHCommandExecutor(command_to_execute, nodes, private_path)\n",
    "result = executor.run()\n",
    "\n",
    "for node_id, res in result.items():\n",
    "    print(f\"Node id {node_id}, executed the command: {res.ok}, ret code: {res.ret_code}\")\n",
    "    res_dict = asdict(res)\n",
    "    print('-----')\n",
    "    print(yaml.dump(res_dict, indent=4, sort_keys=True))"
   ]
  },
  {
   "cell_type": "code",
   "execution_count": null,
   "id": "a5abf2b7-d3bf-4e2b-b942-e15b2ff9a7e9",
   "metadata": {},
   "outputs": [],
   "source": [
    "!cat ~/playbook.yml"
   ]
  },
  {
   "cell_type": "code",
   "execution_count": null,
   "id": "513df281-062e-4dcb-b113-202b993bf605",
   "metadata": {},
   "outputs": [],
   "source": [
    "playbook_file = path_extend('~/playbook.yml')\n",
    "inventory = AnsiblePlaybookExecutor.create_inventory(nodes, private_path)\n",
    "print(yaml.dump(inventory, indent=4))\n",
    "executor = AnsiblePlaybookExecutor(playbook_file, private_path, inventory=inventory)\n",
    "result = executor.run()"
   ]
  },
  {
   "cell_type": "code",
   "execution_count": null,
   "id": "bec904d9-f823-4890-a3ea-050b864d0702",
   "metadata": {},
   "outputs": [],
   "source": [
    "print(f\"Did the playbook executed? {result.ok}\")\n",
    "print(f\"Ansible playbook return code: {result.ret_code}\")\n",
    "print(f\"Let's check how nodes executed: \")\n",
    "for node_id, status in result.hosts.items():\n",
    "    print(f\"    Node {node_id}: {status}\")\n",
    "print(f\"Let's check variables set using set_fact module: \")\n",
    "for node_id, facts in result.vars.items():\n",
    "    print(f\"    Node {node_id}: {facts}\")"
   ]
  },
  {
   "cell_type": "markdown",
   "id": "fd818b24-0376-4ef1-8b17-5dda9814fa62",
   "metadata": {},
   "source": [
    "# Roles"
   ]
  },
  {
   "cell_type": "code",
   "execution_count": null,
   "id": "35ce71dc-e712-46d0-9a7a-d400a2c24d3b",
   "metadata": {},
   "outputs": [],
   "source": [
    "!cat ~/.clap/roles/actions.d/commands-common.yaml"
   ]
  },
  {
   "cell_type": "code",
   "execution_count": null,
   "id": "2a0dedbb-868d-409d-b5b3-1b98e2c56448",
   "metadata": {},
   "outputs": [],
   "source": [
    "for role_name, role_info in role_manager.roles.items():\n",
    "    role_dict = asdict(role_info)\n",
    "    print('------')\n",
    "    print(f\"Role: {role_name}\")\n",
    "    print(f\"{yaml.dump(role_dict, indent=4)}\")"
   ]
  },
  {
   "cell_type": "code",
   "execution_count": null,
   "id": "79f303da-b4a2-4f80-97d9-863829d1b3fe",
   "metadata": {},
   "outputs": [],
   "source": [
    "added_nodes = role_manager.add_role('commands-common', node_ids)\n",
    "print(f\"Role commands-common was added to {len(added_nodes)} nodes: {node_ids}\")"
   ]
  },
  {
   "cell_type": "code",
   "execution_count": null,
   "id": "6e61f8d8-39c1-4329-8ddf-fa20e2b4d2c9",
   "metadata": {},
   "outputs": [],
   "source": [
    "playbook_result = role_manager.perform_action('commands-common', 'update-packages', node_ids)"
   ]
  },
  {
   "cell_type": "code",
   "execution_count": null,
   "id": "001b0f9a-c4d3-4ce7-b729-d23cec4d4e90",
   "metadata": {},
   "outputs": [],
   "source": [
    "nodes_belonging_to_role = role_manager.get_all_role_nodes('commands-common')\n",
    "print(nodes_belonging_to_role)"
   ]
  },
  {
   "cell_type": "code",
   "execution_count": null,
   "id": "1150d68c-5ae3-40de-87f5-66e3b668885f",
   "metadata": {},
   "outputs": [],
   "source": [
    "extra = {'cmd': 'ls -lha'}\n",
    "result = role_manager.perform_action('commands-common', 'run-command', nodes_belonging_to_role, extra_args=extra)\n",
    "print(f\"Playbok executed correctly: {result.ok}\")"
   ]
  }
 ],
 "metadata": {
  "kernelspec": {
   "display_name": "Python 3",
   "language": "python",
   "name": "python3"
  },
  "language_info": {
   "codemirror_mode": {
    "name": "ipython",
    "version": 3
   },
   "file_extension": ".py",
   "mimetype": "text/x-python",
   "name": "python",
   "nbconvert_exporter": "python",
   "pygments_lexer": "ipython3",
   "version": "3.8.5"
  }
 },
 "nbformat": 4,
 "nbformat_minor": 5
}
