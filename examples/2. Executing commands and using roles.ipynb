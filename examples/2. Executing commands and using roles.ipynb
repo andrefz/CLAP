{
 "cells": [
  {
   "cell_type": "markdown",
   "id": "c06cfc4d-dc37-4805-b403-b35090fca9cd",
   "metadata": {},
   "source": [
    "# Executing commands and Playbooks at Nodes and using Role System\n",
    "\n",
    "This notebook...."
   ]
  },
  {
   "cell_type": "code",
   "execution_count": 1,
   "id": "32ca95a1-430d-4a52-a9d5-79a674be4b43",
   "metadata": {},
   "outputs": [
    {
     "name": "stdout",
     "output_type": "stream",
     "text": [
      "Package                       Version\n",
      "----------------------------- -----------\n",
      "alabaster                     0.7.12\n",
      "ansible                       3.4.0\n",
      "ansible-base                  2.10.9\n",
      "ansible-runner                1.4.7\n",
      "anyio                         3.1.0\n",
      "argcomplete                   1.12.3\n",
      "argon2-cffi                   20.1.0\n",
      "astroid                       2.5.6\n",
      "async-generator               1.10\n",
      "attrs                         21.2.0\n",
      "Babel                         2.9.1\n",
      "backcall                      0.2.0\n",
      "bcrypt                        3.2.0\n",
      "bleach                        3.3.0\n",
      "boto                          2.49.0\n",
      "boto3                         1.17.73\n",
      "botocore                      1.20.73\n",
      "certifi                       2020.12.5\n",
      "cffi                          1.14.5\n",
      "chardet                       4.0.0\n",
      "click                         8.0.0\n",
      "coloredlogs                   15.0\n",
      "contextlib2                   0.6.0.post1\n",
      "cryptography                  3.4.7\n",
      "dacite                        1.6.0\n",
      "decorator                     5.0.7\n",
      "defusedxml                    0.7.1\n",
      "docutils                      0.16\n",
      "entrypoints                   0.3\n",
      "fire                          0.4.0\n",
      "humanfriendly                 9.1\n",
      "idna                          2.10\n",
      "imagesize                     1.2.0\n",
      "iniconfig                     1.1.1\n",
      "ipaddress                     1.0.23\n",
      "ipykernel                     5.5.5\n",
      "ipython                       7.23.1\n",
      "ipython-genutils              0.2.0\n",
      "jedi                          0.18.0\n",
      "Jinja2                        3.0.0\n",
      "jmespath                      0.10.0\n",
      "json5                         0.9.5\n",
      "jsonschema                    3.2.0\n",
      "jupyter-client                6.1.12\n",
      "jupyter-core                  4.7.1\n",
      "jupyter-server                1.8.0\n",
      "jupyterlab                    3.0.16\n",
      "jupyterlab-pygments           0.1.2\n",
      "jupyterlab-server             2.5.2\n",
      "lazy-object-proxy             1.6.0\n",
      "lockfile                      0.12.2\n",
      "MarkupSafe                    2.0.0\n",
      "marshmallow                   3.12.1\n",
      "marshmallow-dataclass         8.4.1\n",
      "matplotlib-inline             0.1.2\n",
      "mistune                       0.8.4\n",
      "mypy-extensions               0.4.3\n",
      "names                         0.3.0\n",
      "nbclassic                     0.3.1\n",
      "nbclient                      0.5.3\n",
      "nbconvert                     6.0.7\n",
      "nbformat                      5.1.3\n",
      "nest-asyncio                  1.5.1\n",
      "netaddr                       0.8.0\n",
      "notebook                      6.4.0\n",
      "numpy                         1.20.3\n",
      "packaging                     20.9\n",
      "pandocfilters                 1.4.3\n",
      "paramiko                      2.7.2\n",
      "parso                         0.8.2\n",
      "pexpect                       4.8.0\n",
      "pickleshare                   0.7.5\n",
      "pip                           21.1.2\n",
      "pkg-resources                 0.0.0\n",
      "pluggy                        0.13.1\n",
      "prometheus-client             0.10.1\n",
      "prompt-toolkit                3.0.18\n",
      "psutil                        5.8.0\n",
      "ptyprocess                    0.7.0\n",
      "py                            1.10.0\n",
      "pyCLI                         2.0.3\n",
      "pycparser                     2.20\n",
      "pycrypto                      2.6.1\n",
      "Pygments                      2.9.0\n",
      "PyNaCl                        1.4.0\n",
      "pyparsing                     2.4.7\n",
      "pyrsistent                    0.17.3\n",
      "pytest                        6.2.4\n",
      "python-daemon                 2.3.0\n",
      "python-dateutil               2.8.1\n",
      "pytz                          2021.1\n",
      "PyYAML                        5.4.1\n",
      "pyzmq                         22.0.3\n",
      "randomname                    0.1.3\n",
      "requests                      2.25.1\n",
      "s3transfer                    0.4.2\n",
      "scandir                       1.10.0\n",
      "schema                        0.7.4\n",
      "SecretStorage                 2.3.1\n",
      "Send2Trash                    1.5.0\n",
      "setuptools                    44.0.0\n",
      "six                           1.16.0\n",
      "sniffio                       1.2.0\n",
      "snowballstemmer               2.1.0\n",
      "Sphinx                        3.5.4\n",
      "sphinx-autoapi                1.8.1\n",
      "sphinx-rtd-theme              0.5.2\n",
      "sphinxcontrib-applehelp       1.0.2\n",
      "sphinxcontrib-devhelp         1.0.2\n",
      "sphinxcontrib-htmlhelp        1.0.3\n",
      "sphinxcontrib-jsmath          1.0.1\n",
      "sphinxcontrib-qthelp          1.0.3\n",
      "sphinxcontrib-serializinghtml 1.1.4\n",
      "sqlitedict                    1.7.0\n",
      "subprocess32                  3.5.4\n",
      "termcolor                     1.1.0\n",
      "terminado                     0.10.0\n",
      "testpath                      0.5.0\n",
      "tinydb                        3.15.2\n",
      "toml                          0.10.2\n",
      "tornado                       6.1\n",
      "traitlets                     5.0.5\n",
      "typeguard                     2.12.0\n",
      "typing-extensions             3.10.0.0\n",
      "typing-inspect                0.6.0\n",
      "Unidecode                     1.2.0\n",
      "urllib3                       1.26.4\n",
      "wcwidth                       0.2.5\n",
      "webencodings                  0.5.1\n",
      "websocket-client              1.0.1\n",
      "wrapt                         1.12.1\n"
     ]
    }
   ],
   "source": [
    "import sys\n",
    "sys.path.append('..')\n",
    "!pip list"
   ]
  },
  {
   "cell_type": "code",
   "execution_count": 7,
   "id": "9a26ed6f-1029-4225-9120-faecad5d6b4a",
   "metadata": {},
   "outputs": [],
   "source": [
    "import yaml\n",
    "from dataclasses import asdict\n",
    "from app.cli.modules.node import get_config_db, get_node_manager\n",
    "from app.cli.modules.role import get_role_manager\n",
    "from clap.utils import float_time_to_string\n",
    "from clap.executor import SSHCommandExecutor, AnsiblePlaybookExecutor"
   ]
  },
  {
   "cell_type": "code",
   "execution_count": 3,
   "id": "17998406-d4f7-44fc-8c6a-97f3f4503dc2",
   "metadata": {},
   "outputs": [],
   "source": [
    "configuration_db = get_config_db()\n",
    "node_manager = get_node_manager()"
   ]
  },
  {
   "cell_type": "code",
   "execution_count": 12,
   "id": "32f2a374-39b2-47cb-8efd-f6517ef8d1dc",
   "metadata": {},
   "outputs": [
    {
     "name": "stdout",
     "output_type": "stream",
     "text": [
      "Node ID: 8133c6f7f9ca48258d1e0f01e11326f6 (GeorgeHerndon); status: reachable; IP: 34.229.255.112; type: type-a\n",
      "Node ID: 07f4a369663f48d48254f2ad4c5abbfe (HenryRoy); status: reachable; IP: 54.144.141.190; type: type-a\n"
     ]
    }
   ],
   "source": [
    "nodes = node_manager.get_all_nodes()\n",
    "for node in nodes:\n",
    "    print(f\"Node ID: {node.node_id} ({node.nickname}); status: {node.status}; \"\n",
    "          f\"IP: {node.ip}; type: {node.configuration.instance.instance_config_id}\")"
   ]
  },
  {
   "cell_type": "code",
   "execution_count": 22,
   "id": "ee5bd1d5-adf4-4062-b3b6-78ac02efcc47",
   "metadata": {},
   "outputs": [
    {
     "name": "stdout",
     "output_type": "stream",
     "text": [
      "07f4a369663f48d48254f2ad4c5abbfe:\n",
      "    error: null\n",
      "    ok: true\n",
      "    return_code: 0\n",
      "    stderr_lines:\n",
      "    - 'Cloning into ''CLAP''...\n",
      "\n",
      "        '\n",
      "    stdout_lines:\n",
      "    - 'Clonned CLAP into /home/ubuntu/CLAP\n",
      "\n",
      "        '\n",
      "    - 'Done\n",
      "\n",
      "        '\n",
      "8133c6f7f9ca48258d1e0f01e11326f6:\n",
      "    error: null\n",
      "    ok: true\n",
      "    return_code: 0\n",
      "    stderr_lines:\n",
      "    - 'Cloning into ''CLAP''...\n",
      "\n",
      "        '\n",
      "    stdout_lines:\n",
      "    - 'Clonned CLAP into /home/ubuntu/CLAP\n",
      "\n",
      "        '\n",
      "    - 'Done\n",
      "\n",
      "        '\n",
      "\n"
     ]
    }
   ],
   "source": [
    "command_to_execute = \"\"\"\n",
    "git clone https://github.com/lmcad-unicamp/CLAP.git\n",
    "cd CLAP\n",
    "chmod +x install.sh\n",
    "echo Clonned CLAP into `pwd`\n",
    "echo Done\n",
    "\"\"\"\n",
    "private_path = node_manager.private_path\n",
    "\n",
    "executor = SSHCommandExecutor(command_to_execute, nodes, private_path)\n",
    "result = executor.run()\n",
    "\n",
    "print(yaml.dump(result, indent=4, sort_keys=True))"
   ]
  },
  {
   "cell_type": "code",
   "execution_count": 20,
   "id": "6ad1ccd4-e959-4e53-9ee7-f7473a0839d7",
   "metadata": {},
   "outputs": [
    {
     "name": "stdout",
     "output_type": "stream",
     "text": [
      "07f4a369663f48d48254f2ad4c5abbfe:\n",
      "    error: null\n",
      "    ok: true\n",
      "    return_code: 0\n",
      "    stderr_lines:\n",
      "    - 'Cloning into ''CLAP''...\n",
      "\n",
      "        '\n",
      "    stdout_lines:\n",
      "    - 'Clonned CLAP into /home/ubuntu/CLAP\n",
      "\n",
      "        '\n",
      "8133c6f7f9ca48258d1e0f01e11326f6:\n",
      "    error: null\n",
      "    ok: true\n",
      "    return_code: 0\n",
      "    stderr_lines:\n",
      "    - 'Cloning into ''CLAP''...\n",
      "\n",
      "        '\n",
      "    stdout_lines:\n",
      "    - 'Clonned CLAP into /home/ubuntu/CLAP\n",
      "\n",
      "        '\n",
      "\n"
     ]
    }
   ],
   "source": []
  },
  {
   "cell_type": "code",
   "execution_count": null,
   "id": "54473e91-674c-4a68-8f8e-c0d78c1f766e",
   "metadata": {},
   "outputs": [],
   "source": [
    "role_manager = get_role_manager()"
   ]
  },
  {
   "cell_type": "code",
   "execution_count": 4,
   "id": "35ce71dc-e712-46d0-9a7a-d400a2c24d3b",
   "metadata": {},
   "outputs": [
    {
     "name": "stdout",
     "output_type": "stream",
     "text": [
      "---\n",
      "actions:\n",
      "  install-packages:\n",
      "    playbook: roles/commands-common_install.yml\n",
      "    description: Install packages in nodes\n",
      "    vars:\n",
      "    - name: packages\n",
      "      description: Packages to install (comma separated)\n",
      "\n",
      "  copy:\n",
      "    playbook: roles/commands-common_copy.yml\n",
      "    description: Copy files from localhost to remote hosts\n",
      "    vars:\n",
      "    - name: src\n",
      "      description: Source files/directory to be copied\n",
      "    - name: dest\n",
      "      description: Destination directory where files will be placed\n",
      "\n",
      "  fetch:\n",
      "    playbook: roles/commands-common_fetch.yml\n",
      "    description: Fetch files from remote hosts to localhosts\n",
      "    vars:\n",
      "    - name: src\n",
      "      description: Source files/directory to be fetched\n",
      "    - name: dest\n",
      "      description: Destination directory where files will be placed\n",
      "\n",
      "  reboot:\n",
      "    playbook: roles/commands-common_reboot.yml\n",
      "    description: Reboot a machine\n",
      "\n",
      "  run-command:\n",
      "    playbook: roles/commands-common_run-command.yml\n",
      "    description: Run a shell command in remote hosts\n",
      "    vars:\n",
      "    - name: cmd\n",
      "    - name: workdir\n",
      "      description: Working directory. It will be changed before executing the command\n",
      "      optional: yes\n",
      "\n",
      "  run-script:\n",
      "    playbook: roles/commands-common_run-script.yml\n",
      "    description: Transfer and run a script at remote hosts\n",
      "    vars:\n",
      "    - name: src\n",
      "      description: Source script to run\n",
      "    - name: args\n",
      "      description: Arguments to be passed to the script\n",
      "    - name: workdir\n",
      "      description: Working directory. It will be changed before executing the script\n",
      "      optional: yes\n",
      "\n",
      "  update-packages:\n",
      "    playbook: roles/commands-common_update-packages.yml\n",
      "    description: Update the list of packages of the system\n",
      "\n"
     ]
    }
   ],
   "source": [
    "!cat ~/.clap/roles/actions.d/commands-common.yaml"
   ]
  },
  {
   "cell_type": "code",
   "execution_count": 6,
   "id": "2a0dedbb-868d-409d-b5b3-1b98e2c56448",
   "metadata": {},
   "outputs": [
    {
     "data": {
      "text/plain": [
       "{'commands-common': Role(actions={'install-packages': RoleActionInfo(playbook='roles/commands-common_install.yml', description='Install packages in nodes', vars=[RoleVariableInfo(name='packages', description='Packages to install (comma separated)', optional=None)]), 'copy': RoleActionInfo(playbook='roles/commands-common_copy.yml', description='Copy files from localhost to remote hosts', vars=[RoleVariableInfo(name='src', description='Source files/directory to be copied', optional=None), RoleVariableInfo(name='dest', description='Destination directory where files will be placed', optional=None)]), 'fetch': RoleActionInfo(playbook='roles/commands-common_fetch.yml', description='Fetch files from remote hosts to localhosts', vars=[RoleVariableInfo(name='src', description='Source files/directory to be fetched', optional=None), RoleVariableInfo(name='dest', description='Destination directory where files will be placed', optional=None)]), 'reboot': RoleActionInfo(playbook='roles/commands-common_reboot.yml', description='Reboot a machine', vars=[]), 'run-command': RoleActionInfo(playbook='roles/commands-common_run-command.yml', description='Run a shell command in remote hosts', vars=[RoleVariableInfo(name='cmd', description=None, optional=None), RoleVariableInfo(name='workdir', description='Working directory. It will be changed before executing the command', optional=True)]), 'run-script': RoleActionInfo(playbook='roles/commands-common_run-script.yml', description='Transfer and run a script at remote hosts', vars=[RoleVariableInfo(name='src', description='Source script to run', optional=None), RoleVariableInfo(name='args', description='Arguments to be passed to the script', optional=None), RoleVariableInfo(name='workdir', description='Working directory. It will be changed before executing the script', optional=True)]), 'update-packages': RoleActionInfo(playbook='roles/commands-common_update-packages.yml', description='Update the list of packages of the system', vars=[])}, hosts=[])}"
      ]
     },
     "execution_count": 6,
     "metadata": {},
     "output_type": "execute_result"
    }
   ],
   "source": [
    "\n",
    "role_manager.roles"
   ]
  },
  {
   "cell_type": "code",
   "execution_count": null,
   "id": "79f303da-b4a2-4f80-97d9-863829d1b3fe",
   "metadata": {},
   "outputs": [],
   "source": []
  }
 ],
 "metadata": {
  "kernelspec": {
   "display_name": "Python 3",
   "language": "python",
   "name": "python3"
  },
  "language_info": {
   "codemirror_mode": {
    "name": "ipython",
    "version": 3
   },
   "file_extension": ".py",
   "mimetype": "text/x-python",
   "name": "python",
   "nbconvert_exporter": "python",
   "pygments_lexer": "ipython3",
   "version": "3.8.5"
  }
 },
 "nbformat": 4,
 "nbformat_minor": 5
}
