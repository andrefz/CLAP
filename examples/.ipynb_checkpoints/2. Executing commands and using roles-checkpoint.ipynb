{
 "cells": [
  {
   "cell_type": "markdown",
   "id": "c06cfc4d-dc37-4805-b403-b35090fca9cd",
   "metadata": {},
   "source": [
    "# Executing commands and Playbooks at Nodes and using Role System\n",
    "\n",
    "This notebook...."
   ]
  }
 ],
 "metadata": {
  "kernelspec": {
   "display_name": "Python 3",
   "language": "python",
   "name": "python3"
  },
  "language_info": {
   "codemirror_mode": {
    "name": "ipython",
    "version": 3
   },
   "file_extension": ".py",
   "mimetype": "text/x-python",
   "name": "python",
   "nbconvert_exporter": "python",
   "pygments_lexer": "ipython3",
   "version": "3.8.5"
  }
 },
 "nbformat": 4,
 "nbformat_minor": 5
}
